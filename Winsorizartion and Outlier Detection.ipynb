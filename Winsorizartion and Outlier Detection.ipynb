{
 "cells": [
  {
   "cell_type": "markdown",
   "metadata": {},
   "source": [
    "#### Outlier Detection"
   ]
  },
  {
   "cell_type": "code",
   "execution_count": null,
   "metadata": {},
   "outputs": [],
   "source": [
    "def Outlier_detection(train_data):\n",
    "    numerical_columns=list(train_data.select_dtypes(\"int64\",\"float64\").columns)\n",
    "    index=[\"Total Observations\",\"Lower Limit\",\"Upper Limit\",\"IQR\",\"Number of Outliers\",\"No. of Not outlers\",\"Outlier Percentage\"]\n",
    "    out_df=pd.DataFrame(index=numerical_columns,columns=index)\n",
    "    for col in numerical_columns:\n",
    "        Q1,Q3=np.percentile(train_data[col],[25,75])\n",
    "        IQR=Q3-Q1\n",
    "        lower_limit=Q1-(1.5*IQR)\n",
    "        upper_limit=Q3+(1.5*IQR)\n",
    "        outlier=[]\n",
    "        No_Outliers=[]\n",
    "        for i in train_data[col]:\n",
    "            if (i<lower_limit) | (i>upper_limit):\n",
    "                outlier.append(i)\n",
    "        new_df=pd.DataFrame({\"Total Observations\":len(train_data[col]),\"Lower Limit\":lower_limit,\"Upper Limit\":upper_limit,\"IQR\":IQR,\"Number of Outliers\":len(outlier),\"No. of Not outlers\":len(train_data[col])-len(outlier),\"Outlier Percentage\":(len(outlier)/len(train_data[col]))*100},index=[col])\n",
    "        out_df.update(new_df)\n",
    "    return(out_df)"
   ]
  },
  {
   "cell_type": "markdown",
   "metadata": {},
   "source": [
    "#### Winsorization-method 1"
   ]
  },
  {
   "cell_type": "code",
   "execution_count": null,
   "metadata": {},
   "outputs": [],
   "source": [
    "rem_out=train_data[[\"col1\",\"col2\",\"col3\"]]\n",
    "for col in rem_out.columns:\n",
    "    \n",
    "    percentiles = rem_out[col].quantile([0.01,0.86]).values\n",
    "\n",
    "    rem_out[col][rem_out[col] <= percentiles[0]] = percentiles[0]\n",
    "    rem_out[col][rem_out[col] >= percentiles[1]] = percentiles[1]\n"
   ]
  },
  {
   "cell_type": "markdown",
   "metadata": {},
   "source": [
    "#### Winsorization-method 2"
   ]
  },
  {
   "cell_type": "code",
   "execution_count": null,
   "metadata": {},
   "outputs": [],
   "source": [
    "from scipy.stats.mstats import winsorize\n",
    "limit=(0.05,0.05)\n",
    "train_data1=train_data\n",
    "winsorize(train_data1[\"col1\"],limits=limit,inplace=True)\n",
    "winsorize(train_data1[\"col2\"],limits=limit,inplace=True)\n",
    "winsorize(train_data1[\"col3\"],limits=limit,inplace=True)\n",
    "Outlier_detection(train_data1)"
   ]
  }
 ],
 "metadata": {
  "kernelspec": {
   "display_name": "Python 3",
   "language": "python",
   "name": "python3"
  },
  "language_info": {
   "codemirror_mode": {
    "name": "ipython",
    "version": 3
   },
   "file_extension": ".py",
   "mimetype": "text/x-python",
   "name": "python",
   "nbconvert_exporter": "python",
   "pygments_lexer": "ipython3",
   "version": "3.7.3"
  }
 },
 "nbformat": 4,
 "nbformat_minor": 2
}
